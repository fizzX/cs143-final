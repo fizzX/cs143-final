{
 "cells": [
  {
   "cell_type": "code",
   "execution_count": 9,
   "metadata": {},
   "outputs": [],
   "source": [
    "import numpy as np\n",
    "import networkx as nx\n",
    "import matplotlib.pyplot as plt"
   ]
  },
  {
   "cell_type": "code",
   "execution_count": 10,
   "metadata": {},
   "outputs": [],
   "source": [
    "# G = nx.Graph()\n",
    "# G.add_nodes_from([1, 2, 3, 4, 5, 6, 7, 8, 9, 10])"
   ]
  },
  {
   "cell_type": "code",
   "execution_count": 11,
   "metadata": {},
   "outputs": [],
   "source": [
    "graph = {'1': [{'2':'15'}, {'4':'7'}, {'5':'10'}],\n",
    "        '2': [{'3':'9'}, {'4':'11'}, {'6':'9'}],\n",
    "        '3': [{'5':'12'}, {'6':'7'}],\n",
    "        '4': [{'5':'8'}, {'6':'14'}],\n",
    "        '5': [{'6':'8'}]}"
   ]
  },
  {
   "cell_type": "code",
   "execution_count": 12,
   "metadata": {},
   "outputs": [],
   "source": [
    "new_graph = nx.Graph()\n",
    "new_graph.add_nodes_from([0, 1, 2, 3, 4, 5])\n",
    "for source, targets in graph.items():\n",
    "    for inner_dict in targets:\n",
    "        assert len(inner_dict) == 1\n",
    "        new_graph.add_edge(int(source) - 1, int(list(inner_dict)[0]) - 1, weight=int(list(inner_dict.values())[0]))\n",
    "adjacency_matrix = nx.adjacency_matrix(new_graph)"
   ]
  },
  {
   "cell_type": "code",
   "execution_count": 13,
   "metadata": {},
   "outputs": [
    {
     "data": {
      "text/plain": [
       "array([[ 0, 15,  0,  7, 10,  0],\n",
       "       [15,  0,  9, 11,  0,  9],\n",
       "       [ 0,  9,  0,  0, 12,  7],\n",
       "       [ 7, 11,  0,  0,  8, 14],\n",
       "       [10,  0, 12,  8,  0,  8],\n",
       "       [ 0,  9,  7, 14,  8,  0]], dtype=int64)"
      ]
     },
     "execution_count": 13,
     "metadata": {},
     "output_type": "execute_result"
    }
   ],
   "source": [
    "adjacency_matrix.toarray()"
   ]
  },
  {
   "cell_type": "code",
   "execution_count": 14,
   "metadata": {},
   "outputs": [
    {
     "data": {
      "image/png": "[encoded data removed]",
      "text/plain": [
       "<Figure size 216x216 with 1 Axes>"
      ]
     },
     "metadata": {},
     "output_type": "display_data"
    }
   ],
   "source": [
    "plt.rcParams['figure.figsize']=[3,3]\n",
    "nx.draw(new_graph)"
   ]
  },
  {
   "cell_type": "code",
   "execution_count": 15,
   "metadata": {},
   "outputs": [
    {
     "data": {
      "text/plain": [
       "{0: {0: [0], 1: [0, 1], 3: [0, 3], 4: [0, 4], 5: [0, 4, 5], 2: [0, 4, 2]},\n",
       " 1: {1: [1], 0: [1, 0], 2: [1, 2], 3: [1, 3], 5: [1, 5], 4: [1, 5, 4]},\n",
       " 2: {2: [2], 1: [2, 1], 4: [2, 4], 5: [2, 5], 3: [2, 1, 3], 0: [2, 4, 0]},\n",
       " 3: {3: [3], 0: [3, 0], 1: [3, 1], 4: [3, 4], 5: [3, 5], 2: [3, 4, 2]},\n",
       " 4: {4: [4], 0: [4, 0], 2: [4, 2], 3: [4, 3], 5: [4, 5], 1: [4, 5, 1]},\n",
       " 5: {5: [5], 1: [5, 1], 2: [5, 2], 3: [5, 3], 4: [5, 4], 0: [5, 4, 0]}}"
      ]
     },
     "execution_count": 15,
     "metadata": {},
     "output_type": "execute_result"
    }
   ],
   "source": [
    "len_path = dict(nx.all_pairs_dijkstra_path(new_graph))\n",
    "len_path"
   ]
  },
  {
   "cell_type": "code",
   "execution_count": 17,
   "metadata": {},
   "outputs": [
    {
     "data": {
      "text/plain": [
       "[0, 4, 2]"
      ]
     },
     "execution_count": 17,
     "metadata": {},
     "output_type": "execute_result"
    }
   ],
   "source": [
    "len_path[0][2]"
   ]
  },
  {
   "cell_type": "code",
   "execution_count": 21,
   "metadata": {},
   "outputs": [
    {
     "data": {
      "text/plain": [
       "6"
      ]
     },
     "execution_count": 21,
     "metadata": {},
     "output_type": "execute_result"
    }
   ],
   "source": [
    "len(len_path)"
   ]
  },
  {
   "cell_type": "code",
   "execution_count": null,
   "metadata": {},
   "outputs": [],
   "source": [
    "def run_simulation(n = 100, path_dict):\n",
    "    nodes = np.zeros(len(path_dict))\n",
    "    edges = "
   ]
  },
  {
   "cell_type": "code",
   "execution_count": null,
   "metadata": {},
   "outputs": [],
   "source": []
  }
 ],
 "metadata": {
  "kernelspec": {
   "display_name": "Python 3",
   "language": "python",
   "name": "python3"
  },
  "language_info": {
   "codemirror_mode": {
    "name": "ipython",
    "version": 3
   },
   "file_extension": ".py",
   "mimetype": "text/x-python",
   "name": "python",
   "nbconvert_exporter": "python",
   "pygments_lexer": "ipython3",
   "version": "3.6.9"
  }
 },
 "nbformat": 4,
 "nbformat_minor": 4
}
