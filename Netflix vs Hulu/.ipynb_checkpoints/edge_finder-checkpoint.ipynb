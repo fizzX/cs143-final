{
 "cells": [
  {
   "cell_type": "code",
   "execution_count": 6,
   "metadata": {},
   "outputs": [],
   "source": [
    "import numpy as np\n",
    "import pandas as pd\n",
    "import pickle"
   ]
  },
  {
   "cell_type": "markdown",
   "metadata": {},
   "source": [
    "Getting edges from source datafile"
   ]
  },
  {
   "cell_type": "code",
   "execution_count": 2,
   "metadata": {},
   "outputs": [],
   "source": [
    "data_file = open('route data cleaned.txt', 'r')\n",
    "lines = data_file.readlines()"
   ]
  },
  {
   "cell_type": "code",
   "execution_count": 9,
   "metadata": {},
   "outputs": [],
   "source": [
    "edge_dict = {}\n",
    "for line in lines:\n",
    "    if len(line[75:-1]) > 0:\n",
    "        path = line[75:-1].split()\n",
    "        for i in range(len(path)-1):\n",
    "            if path[i] in edge_dict.keys() and path[i+1] not in edge_dict[path[i]]:\n",
    "                edge_dict[path[i]].append(path[i+1])\n",
    "            if path[i+1] in edge_dict.keys() and path[i] not in edge_dict[path[i+1]]:\n",
    "                edge_dict[path[i+1]].append(path[i])\n",
    "            if path[i] not in edge_dict.keys():\n",
    "                edge_dict[path[i]]=[path[i+1]]\n",
    "            if path[i+1] not in edge_dict.keys():\n",
    "                edge_dict[path[i+1]]=[path[i]]\n",
    "with open('edge_dict.pkl', 'wb') as handle:\n",
    "    pickle.dump(edge_dict, handle)"
   ]
  },
  {
   "cell_type": "code",
   "execution_count": 31,
   "metadata": {},
   "outputs": [],
   "source": [
    "with open('edge_dict.pkl', 'rb') as handle:\n",
    "    edge_dict = pickle.load(handle)"
   ]
  },
  {
   "cell_type": "markdown",
   "metadata": {},
   "source": [
    "Getting edges from R algorithm's results"
   ]
  },
  {
   "cell_type": "code",
   "execution_count": 32,
   "metadata": {},
   "outputs": [],
   "source": [
    "data_file = open('edges from r hc_loglik.txt', 'r')\n",
    "lines = data_file.readlines()"
   ]
  },
  {
   "cell_type": "code",
   "execution_count": 33,
   "metadata": {},
   "outputs": [
    {
     "name": "stdout",
     "output_type": "stream",
     "text": [
      "real Edges found  36\n",
      "proportion of real edges in found edges 0.06805293005671077\n"
     ]
    }
   ],
   "source": [
    "count=0\n",
    "for line in lines:\n",
    "    edge = line.split()\n",
    "    if edge[1] in edge_dict[edge[0]]:\n",
    "        count+=1\n",
    "#         print(edge)\n",
    "print(\"real Edges found \", count)\n",
    "print(\"proportion of real edges in found edges\", count/len(lines))"
   ]
  },
  {
   "cell_type": "code",
   "execution_count": null,
   "metadata": {},
   "outputs": [],
   "source": []
  }
 ],
 "metadata": {
  "kernelspec": {
   "display_name": "Python 3",
   "language": "python",
   "name": "python3"
  },
  "language_info": {
   "codemirror_mode": {
    "name": "ipython",
    "version": 3
   },
   "file_extension": ".py",
   "mimetype": "text/x-python",
   "name": "python",
   "nbconvert_exporter": "python",
   "pygments_lexer": "ipython3",
   "version": "3.6.9"
  }
 },
 "nbformat": 4,
 "nbformat_minor": 4
}
